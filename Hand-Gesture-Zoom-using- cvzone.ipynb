{
 "cells": [
  {
   "cell_type": "code",
   "execution_count": null,
   "id": "61f99be2-ea1b-4ae1-a08a-a390765294b5",
   "metadata": {},
   "outputs": [],
   "source": [
    "import cv2 as cv2\n",
    "from cvzone.HandTrackingModule import HandDetector\n",
    "\n",
    "cap = cv2.VideoCapture(0)\n",
    "cap.set(3, 1280)\n",
    "cap.set(4, 720)\n",
    "detector = HandDetector(detectionCon=0.8)\n",
    "startDist = None\n",
    "scale = 0\n",
    "cx, cy = 500, 500\n",
    "img1 = cv2.imread(\"gv.jpg\")\n",
    "img1 = cv2.resize(img1, (250, 250))\n",
    "\n",
    "while True:\n",
    "    succ, img = cap.read()\n",
    "    if not succ:\n",
    "        break\n",
    "    hands, img = detector.findHands(img)\n",
    "    \n",
    "    if len(hands) == 2:\n",
    "        if detector.fingersUp(hands[0]) == [1, 1, 0, 0, 0] and detector.fingersUp(hands[1]) == [1, 1, 0, 0, 0]:\n",
    "            lmList1 = hands[0][\"lmList\"]\n",
    "            lmList2 = hands[1][\"lmList\"]\n",
    "            if startDist is None:\n",
    "                x1, y1 = lmList1[8][0], lmList1[8][1]\n",
    "                x2, y2 = lmList2[8][0], lmList2[8][1]\n",
    "                length, info, img = detector.findDistance((x1, y1), (x2, y2), img)\n",
    "                startDist = length\n",
    "            x1, y1 = lmList1[8][0], lmList1[8][1]\n",
    "            x2, y2 = lmList2[8][0], lmList2[8][1]\n",
    "            length, info, img = detector.findDistance((x1, y1), (x2, y2), img)\n",
    "            scale = int(length - startDist) // 2\n",
    "            cx, cy = info[4:]\n",
    "    else:\n",
    "        startDist = None\n",
    "\n",
    "    h1, w1, _ = img1.shape\n",
    "    newH, newW = max(2, ((h1 + scale) // 2) * 2), max(2, ((w1 + scale) // 2) * 2)\n",
    "    resized_img1 = cv2.resize(img1, (newW, newH))\n",
    "\n",
    "    y1 = max(0, cy - newH // 2)\n",
    "    y2 = min(img.shape[0], cy + newH // 2)\n",
    "    x1 = max(0, cx - newW // 2)\n",
    "    x2 = min(img.shape[1], cx + newW // 2)\n",
    "\n",
    "    resized_img1 = resized_img1[:y2 - y1, :x2 - x1]\n",
    "\n",
    "    \n",
    "    img[y1:y2, x1:x2] = resized_img1\n",
    "    cv2.imshow(\"img\", img)\n",
    "    if cv2.waitKey(1) & 0xFF == ord('q'):\n",
    "        break\n",
    "\n",
    "cap.release()\n",
    "cv2.destroyAllWindows()\n"
   ]
  },
  {
   "cell_type": "code",
   "execution_count": null,
   "id": "52d694ee-26ba-4916-92d1-810d9dca5db2",
   "metadata": {},
   "outputs": [],
   "source": []
  }
 ],
 "metadata": {
  "kernelspec": {
   "display_name": "Python 3 (ipykernel)",
   "language": "python",
   "name": "python3"
  },
  "language_info": {
   "codemirror_mode": {
    "name": "ipython",
    "version": 3
   },
   "file_extension": ".py",
   "mimetype": "text/x-python",
   "name": "python",
   "nbconvert_exporter": "python",
   "pygments_lexer": "ipython3",
   "version": "3.12.7"
  }
 },
 "nbformat": 4,
 "nbformat_minor": 5
}
